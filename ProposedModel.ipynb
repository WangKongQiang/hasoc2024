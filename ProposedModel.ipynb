{
 "cells": [
  {
   "cell_type": "code",
   "execution_count": 2,
   "metadata": {},
   "outputs": [
    {
     "name": "stderr",
     "output_type": "stream",
     "text": [
      "C:\\Users\\8888\\Anaconda3\\envs\\pythonProject11\\lib\\site-packages\\tqdm\\auto.py:21: TqdmWarning: IProgress not found. Please update jupyter and ipywidgets. See https://ipywidgets.readthedocs.io/en/stable/user_install.html\n",
      "  from .autonotebook import tqdm as notebook_tqdm\n"
     ]
    }
   ],
   "source": [
    "import pandas as pd\n",
    "import numpy as np\n",
    "import matplotlib.pyplot as plt\n",
    "\n",
    "from keras.preprocessing.text import Tokenizer\n",
    "from sklearn.model_selection import train_test_split\n",
    "from nltk.stem import WordNetLemmatizer\n",
    "from nltk import word_tokenize\n",
    "import nltk\n",
    "import os\n",
    "import collections\n",
    "import re\n",
    "import string\n",
    "\n",
    "import preprocessor as p\n",
    "import ktrain\n",
    "from ktrain import text\n",
    "import nltk\n",
    "from sklearn.preprocessing import LabelEncoder"
   ]
  },
  {
   "cell_type": "markdown",
   "metadata": {},
   "source": [
    "## OFFN/HATE Predictor"
   ]
  },
  {
   "cell_type": "code",
   "execution_count": 4,
   "metadata": {},
   "outputs": [
    {
     "data": {
      "text/html": [
       "<div>\n",
       "<style scoped>\n",
       "    .dataframe tbody tr th:only-of-type {\n",
       "        vertical-align: middle;\n",
       "    }\n",
       "\n",
       "    .dataframe tbody tr th {\n",
       "        vertical-align: top;\n",
       "    }\n",
       "\n",
       "    .dataframe thead th {\n",
       "        text-align: right;\n",
       "    }\n",
       "</style>\n",
       "<table border=\"1\" class=\"dataframe\">\n",
       "  <thead>\n",
       "    <tr style=\"text-align: right;\">\n",
       "      <th></th>\n",
       "      <th>Unnamed: 0</th>\n",
       "      <th>_id</th>\n",
       "      <th>text</th>\n",
       "      <th>task_1</th>\n",
       "      <th>task_2</th>\n",
       "      <th>text_clean</th>\n",
       "    </tr>\n",
       "  </thead>\n",
       "  <tbody>\n",
       "    <tr>\n",
       "      <th>0</th>\n",
       "      <td>4986</td>\n",
       "      <td>60c5d6bf5659ea5e55defa2c</td>\n",
       "      <td>@wealth if you made it through this &amp;amp;&amp;amp;...</td>\n",
       "      <td>HOF</td>\n",
       "      <td>PRFN</td>\n",
       "      <td>made amp amp onli abl start make money sustain...</td>\n",
       "    </tr>\n",
       "    <tr>\n",
       "      <th>1</th>\n",
       "      <td>3394</td>\n",
       "      <td>60c5d6bf5659ea5e55def461</td>\n",
       "      <td>Technically that's still turning back the cloc...</td>\n",
       "      <td>HOF</td>\n",
       "      <td>OFFN</td>\n",
       "      <td>technic still turn back clock dick head</td>\n",
       "    </tr>\n",
       "    <tr>\n",
       "      <th>2</th>\n",
       "      <td>1310</td>\n",
       "      <td>60c5d6bf5659ea5e55defaad</td>\n",
       "      <td>@VMBJP @BJP4Bengal @BJP4India @narendramodi @J...</td>\n",
       "      <td>NOT</td>\n",
       "      <td>NONE</td>\n",
       "      <td>govt stop think world media liber gang ani opt...</td>\n",
       "    </tr>\n",
       "    <tr>\n",
       "      <th>3</th>\n",
       "      <td>3390</td>\n",
       "      <td>60c5d6bf5659ea5e55def419</td>\n",
       "      <td>@krtoprak_yigit Soldier of Japan Who has dick ...</td>\n",
       "      <td>HOF</td>\n",
       "      <td>OFFN</td>\n",
       "      <td>soldier japan dick head</td>\n",
       "    </tr>\n",
       "    <tr>\n",
       "      <th>4</th>\n",
       "      <td>4626</td>\n",
       "      <td>60c5d6bf5659ea5e55def7fa</td>\n",
       "      <td>@blueheartedly You'd be better off asking who ...</td>\n",
       "      <td>HOF</td>\n",
       "      <td>OFFN</td>\n",
       "      <td>would better ask think sleazi shitbag lmao</td>\n",
       "    </tr>\n",
       "  </tbody>\n",
       "</table>\n",
       "</div>"
      ],
      "text/plain": [
       "   Unnamed: 0                       _id  \\\n",
       "0        4986  60c5d6bf5659ea5e55defa2c   \n",
       "1        3394  60c5d6bf5659ea5e55def461   \n",
       "2        1310  60c5d6bf5659ea5e55defaad   \n",
       "3        3390  60c5d6bf5659ea5e55def419   \n",
       "4        4626  60c5d6bf5659ea5e55def7fa   \n",
       "\n",
       "                                                text task_1 task_2  \\\n",
       "0  @wealth if you made it through this &amp;&amp;...    HOF   PRFN   \n",
       "1  Technically that's still turning back the cloc...    HOF   OFFN   \n",
       "2  @VMBJP @BJP4Bengal @BJP4India @narendramodi @J...    NOT   NONE   \n",
       "3  @krtoprak_yigit Soldier of Japan Who has dick ...    HOF   OFFN   \n",
       "4  @blueheartedly You'd be better off asking who ...    HOF   OFFN   \n",
       "\n",
       "                                          text_clean  \n",
       "0  made amp amp onli abl start make money sustain...  \n",
       "1            technic still turn back clock dick head  \n",
       "2  govt stop think world media liber gang ani opt...  \n",
       "3                            soldier japan dick head  \n",
       "4         would better ask think sleazi shitbag lmao  "
      ]
     },
     "execution_count": 4,
     "metadata": {},
     "output_type": "execute_result"
    }
   ],
   "source": [
    "df_full = pd.read_csv(\"../../preprocess_data.csv\",index_col=0)\n",
    "df_full = df_full.dropna()\n",
    "df_full.head()"
   ]
  },
  {
   "cell_type": "code",
   "execution_count": 3,
   "metadata": {},
   "outputs": [
    {
     "data": {
      "text/html": [
       "<div>\n",
       "<style scoped>\n",
       "    .dataframe tbody tr th:only-of-type {\n",
       "        vertical-align: middle;\n",
       "    }\n",
       "\n",
       "    .dataframe tbody tr th {\n",
       "        vertical-align: top;\n",
       "    }\n",
       "\n",
       "    .dataframe thead th {\n",
       "        text-align: right;\n",
       "    }\n",
       "</style>\n",
       "<table border=\"1\" class=\"dataframe\">\n",
       "  <thead>\n",
       "    <tr style=\"text-align: right;\">\n",
       "      <th></th>\n",
       "      <th>Unnamed: 0</th>\n",
       "      <th>_id</th>\n",
       "      <th>text</th>\n",
       "      <th>task_1</th>\n",
       "      <th>task_2</th>\n",
       "      <th>text_clean</th>\n",
       "    </tr>\n",
       "  </thead>\n",
       "  <tbody>\n",
       "    <tr>\n",
       "      <th>1</th>\n",
       "      <td>3394</td>\n",
       "      <td>60c5d6bf5659ea5e55def461</td>\n",
       "      <td>Technically that's still turning back the cloc...</td>\n",
       "      <td>HOF</td>\n",
       "      <td>OFFN</td>\n",
       "      <td>technic still turn back clock dick head</td>\n",
       "    </tr>\n",
       "    <tr>\n",
       "      <th>3</th>\n",
       "      <td>3390</td>\n",
       "      <td>60c5d6bf5659ea5e55def419</td>\n",
       "      <td>@krtoprak_yigit Soldier of Japan Who has dick ...</td>\n",
       "      <td>HOF</td>\n",
       "      <td>OFFN</td>\n",
       "      <td>soldier japan dick head</td>\n",
       "    </tr>\n",
       "    <tr>\n",
       "      <th>4</th>\n",
       "      <td>4626</td>\n",
       "      <td>60c5d6bf5659ea5e55def7fa</td>\n",
       "      <td>@blueheartedly You'd be better off asking who ...</td>\n",
       "      <td>HOF</td>\n",
       "      <td>OFFN</td>\n",
       "      <td>would better ask think sleazi shitbag lmao</td>\n",
       "    </tr>\n",
       "    <tr>\n",
       "      <th>8</th>\n",
       "      <td>3582</td>\n",
       "      <td>60c5d6bf5659ea5e55def54f</td>\n",
       "      <td>@Chahal_Shekhar Sorry we won't, why can't your...</td>\n",
       "      <td>HOF</td>\n",
       "      <td>HATE</td>\n",
       "      <td>sorri wo whi rais voic thousand peopl die due ...</td>\n",
       "    </tr>\n",
       "    <tr>\n",
       "      <th>11</th>\n",
       "      <td>150</td>\n",
       "      <td>60c5d6bf5659ea5e55def132</td>\n",
       "      <td>@narendramodi, you are #NotMyPrimeMinister any...</td>\n",
       "      <td>HOF</td>\n",
       "      <td>OFFN</td>\n",
       "      <td>notmyprimeminist anymor egoist populist way pl...</td>\n",
       "    </tr>\n",
       "  </tbody>\n",
       "</table>\n",
       "</div>"
      ],
      "text/plain": [
       "    Unnamed: 0                       _id  \\\n",
       "1         3394  60c5d6bf5659ea5e55def461   \n",
       "3         3390  60c5d6bf5659ea5e55def419   \n",
       "4         4626  60c5d6bf5659ea5e55def7fa   \n",
       "8         3582  60c5d6bf5659ea5e55def54f   \n",
       "11         150  60c5d6bf5659ea5e55def132   \n",
       "\n",
       "                                                 text task_1 task_2  \\\n",
       "1   Technically that's still turning back the cloc...    HOF   OFFN   \n",
       "3   @krtoprak_yigit Soldier of Japan Who has dick ...    HOF   OFFN   \n",
       "4   @blueheartedly You'd be better off asking who ...    HOF   OFFN   \n",
       "8   @Chahal_Shekhar Sorry we won't, why can't your...    HOF   HATE   \n",
       "11  @narendramodi, you are #NotMyPrimeMinister any...    HOF   OFFN   \n",
       "\n",
       "                                           text_clean  \n",
       "1             technic still turn back clock dick head  \n",
       "3                             soldier japan dick head  \n",
       "4          would better ask think sleazi shitbag lmao  \n",
       "8   sorri wo whi rais voic thousand peopl die due ...  \n",
       "11  notmyprimeminist anymor egoist populist way pl...  "
      ]
     },
     "execution_count": 3,
     "metadata": {},
     "output_type": "execute_result"
    }
   ],
   "source": [
    "df = df_full[df_full['task_2'].isin(['OFFN','HATE'])]\n",
    "df.head()"
   ]
  },
  {
   "cell_type": "code",
   "execution_count": 4,
   "metadata": {},
   "outputs": [
    {
     "data": {
      "text/plain": [
       "['HATE', 'OFFN']"
      ]
     },
     "execution_count": 4,
     "metadata": {},
     "output_type": "execute_result"
    }
   ],
   "source": [
    "LE = LabelEncoder()\n",
    "LE.fit(df['task_2'])\n",
    "classes= list(LE.classes_)\n",
    "classes"
   ]
  },
  {
   "cell_type": "code",
   "execution_count": 5,
   "metadata": {},
   "outputs": [
    {
     "name": "stderr",
     "output_type": "stream",
     "text": [
      "C:\\Users\\8888\\AppData\\Local\\Temp\\ipykernel_35004\\227309049.py:1: SettingWithCopyWarning: \n",
      "A value is trying to be set on a copy of a slice from a DataFrame.\n",
      "Try using .loc[row_indexer,col_indexer] = value instead\n",
      "\n",
      "See the caveats in the documentation: https://pandas.pydata.org/pandas-docs/stable/user_guide/indexing.html#returning-a-view-versus-a-copy\n",
      "  df['task_2'] = LE.fit_transform(df['task_2'])\n"
     ]
    },
    {
     "data": {
      "text/html": [
       "<div>\n",
       "<style scoped>\n",
       "    .dataframe tbody tr th:only-of-type {\n",
       "        vertical-align: middle;\n",
       "    }\n",
       "\n",
       "    .dataframe tbody tr th {\n",
       "        vertical-align: top;\n",
       "    }\n",
       "\n",
       "    .dataframe thead th {\n",
       "        text-align: right;\n",
       "    }\n",
       "</style>\n",
       "<table border=\"1\" class=\"dataframe\">\n",
       "  <thead>\n",
       "    <tr style=\"text-align: right;\">\n",
       "      <th></th>\n",
       "      <th>Unnamed: 0</th>\n",
       "      <th>_id</th>\n",
       "      <th>text</th>\n",
       "      <th>task_1</th>\n",
       "      <th>task_2</th>\n",
       "      <th>text_clean</th>\n",
       "    </tr>\n",
       "  </thead>\n",
       "  <tbody>\n",
       "    <tr>\n",
       "      <th>1</th>\n",
       "      <td>3394</td>\n",
       "      <td>60c5d6bf5659ea5e55def461</td>\n",
       "      <td>Technically that's still turning back the cloc...</td>\n",
       "      <td>HOF</td>\n",
       "      <td>1</td>\n",
       "      <td>technic still turn back clock dick head</td>\n",
       "    </tr>\n",
       "    <tr>\n",
       "      <th>3</th>\n",
       "      <td>3390</td>\n",
       "      <td>60c5d6bf5659ea5e55def419</td>\n",
       "      <td>@krtoprak_yigit Soldier of Japan Who has dick ...</td>\n",
       "      <td>HOF</td>\n",
       "      <td>1</td>\n",
       "      <td>soldier japan dick head</td>\n",
       "    </tr>\n",
       "    <tr>\n",
       "      <th>4</th>\n",
       "      <td>4626</td>\n",
       "      <td>60c5d6bf5659ea5e55def7fa</td>\n",
       "      <td>@blueheartedly You'd be better off asking who ...</td>\n",
       "      <td>HOF</td>\n",
       "      <td>1</td>\n",
       "      <td>would better ask think sleazi shitbag lmao</td>\n",
       "    </tr>\n",
       "    <tr>\n",
       "      <th>8</th>\n",
       "      <td>3582</td>\n",
       "      <td>60c5d6bf5659ea5e55def54f</td>\n",
       "      <td>@Chahal_Shekhar Sorry we won't, why can't your...</td>\n",
       "      <td>HOF</td>\n",
       "      <td>0</td>\n",
       "      <td>sorri wo whi rais voic thousand peopl die due ...</td>\n",
       "    </tr>\n",
       "    <tr>\n",
       "      <th>11</th>\n",
       "      <td>150</td>\n",
       "      <td>60c5d6bf5659ea5e55def132</td>\n",
       "      <td>@narendramodi, you are #NotMyPrimeMinister any...</td>\n",
       "      <td>HOF</td>\n",
       "      <td>1</td>\n",
       "      <td>notmyprimeminist anymor egoist populist way pl...</td>\n",
       "    </tr>\n",
       "  </tbody>\n",
       "</table>\n",
       "</div>"
      ],
      "text/plain": [
       "    Unnamed: 0                       _id  \\\n",
       "1         3394  60c5d6bf5659ea5e55def461   \n",
       "3         3390  60c5d6bf5659ea5e55def419   \n",
       "4         4626  60c5d6bf5659ea5e55def7fa   \n",
       "8         3582  60c5d6bf5659ea5e55def54f   \n",
       "11         150  60c5d6bf5659ea5e55def132   \n",
       "\n",
       "                                                 text task_1  task_2  \\\n",
       "1   Technically that's still turning back the cloc...    HOF       1   \n",
       "3   @krtoprak_yigit Soldier of Japan Who has dick ...    HOF       1   \n",
       "4   @blueheartedly You'd be better off asking who ...    HOF       1   \n",
       "8   @Chahal_Shekhar Sorry we won't, why can't your...    HOF       0   \n",
       "11  @narendramodi, you are #NotMyPrimeMinister any...    HOF       1   \n",
       "\n",
       "                                           text_clean  \n",
       "1             technic still turn back clock dick head  \n",
       "3                             soldier japan dick head  \n",
       "4          would better ask think sleazi shitbag lmao  \n",
       "8   sorri wo whi rais voic thousand peopl die due ...  \n",
       "11  notmyprimeminist anymor egoist populist way pl...  "
      ]
     },
     "execution_count": 5,
     "metadata": {},
     "output_type": "execute_result"
    }
   ],
   "source": [
    "df['task_2'] = LE.fit_transform(df['task_2'])\n",
    "task1_params = dict(zip(LE.classes_, LE.transform(LE.classes_)))\n",
    "df.head()"
   ]
  },
  {
   "cell_type": "code",
   "execution_count": 6,
   "metadata": {},
   "outputs": [
    {
     "data": {
      "text/plain": [
       "[0, 1]"
      ]
     },
     "execution_count": 6,
     "metadata": {},
     "output_type": "execute_result"
    }
   ],
   "source": [
    "LE.fit(df['task_2'])\n",
    "classes= list(LE.classes_)\n",
    "classes"
   ]
  },
  {
   "cell_type": "code",
   "execution_count": 7,
   "metadata": {},
   "outputs": [],
   "source": [
    "# split train dataset into train, validation and test sets\n",
    "train_text, temp_text, train_labels, temp_labels = train_test_split(df['text_clean'], df['task_2'], \n",
    "                                                                    random_state=42, \n",
    "                                                                    test_size=0.1)"
   ]
  },
  {
   "cell_type": "code",
   "execution_count": 8,
   "metadata": {},
   "outputs": [],
   "source": [
    "X_train = train_text.tolist()\n",
    "X_test = temp_text.tolist()\n",
    "\n",
    "y_train = train_labels.tolist()\n",
    "y_test = temp_labels.tolist()"
   ]
  },
  {
   "cell_type": "code",
   "execution_count": 9,
   "metadata": {},
   "outputs": [
    {
     "data": {
      "text/plain": [
       "(131, 1174)"
      ]
     },
     "execution_count": 9,
     "metadata": {},
     "output_type": "execute_result"
    }
   ],
   "source": [
    "len(X_test),len(X_train)"
   ]
  },
  {
   "cell_type": "code",
   "execution_count": 10,
   "metadata": {},
   "outputs": [
    {
     "name": "stdout",
     "output_type": "stream",
     "text": [
      "preprocessing train...\n",
      "language: en\n",
      "train sequence lengths:\n",
      "\tmean : 17\n",
      "\t95percentile : 28\n",
      "\t99percentile : 31\n"
     ]
    },
    {
     "data": {
      "text/html": [
       "\n",
       "<style>\n",
       "    /* Turns off some styling */\n",
       "    progress {\n",
       "        /* gets rid of default border in Firefox and Opera. */\n",
       "        border: none;\n",
       "        /* Needs to be in here for Safari polyfill so background images work as expected. */\n",
       "        background-size: auto;\n",
       "    }\n",
       "    progress:not([value]), progress:not([value])::-webkit-progress-bar {\n",
       "        background: repeating-linear-gradient(45deg, #7e7e7e, #7e7e7e 10px, #5c5c5c 10px, #5c5c5c 20px);\n",
       "    }\n",
       "    .progress-bar-interrupted, .progress-bar-interrupted::-webkit-progress-bar {\n",
       "        background: #F44336;\n",
       "    }\n",
       "</style>\n"
      ],
      "text/plain": [
       "<IPython.core.display.HTML object>"
      ]
     },
     "metadata": {},
     "output_type": "display_data"
    },
    {
     "data": {
      "text/html": [],
      "text/plain": [
       "<IPython.core.display.HTML object>"
      ]
     },
     "metadata": {},
     "output_type": "display_data"
    },
    {
     "name": "stdout",
     "output_type": "stream",
     "text": [
      "Is Multi-Label? False\n",
      "preprocessing test...\n",
      "language: en\n",
      "test sequence lengths:\n",
      "\tmean : 16\n",
      "\t95percentile : 27\n",
      "\t99percentile : 29\n"
     ]
    },
    {
     "data": {
      "text/html": [
       "\n",
       "<style>\n",
       "    /* Turns off some styling */\n",
       "    progress {\n",
       "        /* gets rid of default border in Firefox and Opera. */\n",
       "        border: none;\n",
       "        /* Needs to be in here for Safari polyfill so background images work as expected. */\n",
       "        background-size: auto;\n",
       "    }\n",
       "    progress:not([value]), progress:not([value])::-webkit-progress-bar {\n",
       "        background: repeating-linear-gradient(45deg, #7e7e7e, #7e7e7e 10px, #5c5c5c 10px, #5c5c5c 20px);\n",
       "    }\n",
       "    .progress-bar-interrupted, .progress-bar-interrupted::-webkit-progress-bar {\n",
       "        background: #F44336;\n",
       "    }\n",
       "</style>\n"
      ],
      "text/plain": [
       "<IPython.core.display.HTML object>"
      ]
     },
     "metadata": {},
     "output_type": "display_data"
    },
    {
     "data": {
      "text/html": [],
      "text/plain": [
       "<IPython.core.display.HTML object>"
      ]
     },
     "metadata": {},
     "output_type": "display_data"
    },
    {
     "name": "stdout",
     "output_type": "stream",
     "text": [
      "\n",
      "\n",
      "begin training using onecycle policy with max lr of 5e-05...\n",
      "Epoch 1/2\n",
      "196/196 [==============================] - 886s 4s/step - loss: 0.6504 - accuracy: 0.6056 - val_loss: 0.5972 - val_accuracy: 0.6489\n",
      "Epoch 2/2\n",
      "196/196 [==============================] - 885s 5s/step - loss: 0.5238 - accuracy: 0.7419 - val_loss: 0.4795 - val_accuracy: 0.7557\n",
      "5/5 [==============================] - 4s 640ms/step\n",
      "              precision    recall  f1-score   support\n",
      "\n",
      "           0       0.70      0.94      0.80        68\n",
      "           1       0.90      0.56      0.69        63\n",
      "\n",
      "    accuracy                           0.76       131\n",
      "   macro avg       0.80      0.75      0.74       131\n",
      "weighted avg       0.79      0.76      0.75       131\n",
      "\n"
     ]
    },
    {
     "data": {
      "text/plain": [
       "array([[64,  4],\n",
       "       [28, 35]], dtype=int64)"
      ]
     },
     "execution_count": 10,
     "metadata": {},
     "output_type": "execute_result"
    }
   ],
   "source": [
    "import ktrain\n",
    "from ktrain import text\n",
    "MODEL_NAME = 'models--distilbert--distilbert-base-uncased'  # replace this with model of choice\n",
    "t = text.Transformer(MODEL_NAME, maxlen=500, class_names=classes)\n",
    "trn = t.preprocess_train(X_train, y_train)\n",
    "val = t.preprocess_test(X_test, y_test)\n",
    "model = t.get_classifier()\n",
    "learner = ktrain.get_learner(model, train_data=trn, val_data=val, batch_size=6)\n",
    "history = learner.fit_onecycle(5e-5,2)\n",
    "learner.validate(class_names=classes) # class_names must be string values"
   ]
  },
  {
   "cell_type": "code",
   "execution_count": 11,
   "metadata": {},
   "outputs": [],
   "source": [
    "predictor = ktrain.get_predictor(learner.model, preproc=t)"
   ]
  },
  {
   "cell_type": "code",
   "execution_count": 12,
   "metadata": {},
   "outputs": [],
   "source": [
    "predictor.save('bert_OFFN_HATE')"
   ]
  },
  {
   "cell_type": "code",
   "execution_count": null,
   "metadata": {},
   "outputs": [],
   "source": []
  },
  {
   "cell_type": "markdown",
   "metadata": {},
   "source": [
    "## Data for validating Proposed Model"
   ]
  },
  {
   "cell_type": "code",
   "execution_count": 5,
   "metadata": {},
   "outputs": [
    {
     "data": {
      "text/plain": [
       "['HATE', 'NONE', 'OFFN', 'PRFN']"
      ]
     },
     "execution_count": 5,
     "metadata": {},
     "output_type": "execute_result"
    }
   ],
   "source": [
    "LE = LabelEncoder()\n",
    "LE.fit(df_full['task_2'])\n",
    "classes= list(LE.classes_)\n",
    "classes"
   ]
  },
  {
   "cell_type": "code",
   "execution_count": 6,
   "metadata": {},
   "outputs": [],
   "source": [
    "df_full['task_2'] = LE.fit_transform(df_full['task_2'])\n",
    "task1_params = dict(zip(LE.classes_, LE.transform(LE.classes_)))"
   ]
  },
  {
   "cell_type": "code",
   "execution_count": 7,
   "metadata": {},
   "outputs": [
    {
     "data": {
      "text/plain": [
       "[0, 1, 2, 3]"
      ]
     },
     "execution_count": 7,
     "metadata": {},
     "output_type": "execute_result"
    }
   ],
   "source": [
    "LE.fit(df_full['task_2'])\n",
    "classes= list(LE.classes_)\n",
    "classes"
   ]
  },
  {
   "cell_type": "code",
   "execution_count": 8,
   "metadata": {},
   "outputs": [],
   "source": [
    "# split train dataset into train, validation and test sets\n",
    "train_text, temp_text, train_labels, temp_labels = train_test_split(df_full['text_clean'], df_full['task_2'], \n",
    "                                                                    random_state=42, \n",
    "                                                                    test_size=0.3)"
   ]
  },
  {
   "cell_type": "code",
   "execution_count": 9,
   "metadata": {},
   "outputs": [],
   "source": [
    "X_train = train_text.tolist()\n",
    "X_test = temp_text.tolist()\n",
    "\n",
    "y_train = train_labels.tolist()\n",
    "y_test = temp_labels.tolist()"
   ]
  },
  {
   "cell_type": "markdown",
   "metadata": {},
   "source": [
    "## Step 1: HOF/NOT Prediction"
   ]
  },
  {
   "cell_type": "code",
   "execution_count": 11,
   "metadata": {},
   "outputs": [],
   "source": [
    "reloaded_predictor_A = ktrain.load_predictor('bert_A')"
   ]
  },
  {
   "cell_type": "code",
   "execution_count": 12,
   "metadata": {},
   "outputs": [
    {
     "data": {
      "text/plain": [
       "(1152, 1152)"
      ]
     },
     "execution_count": 12,
     "metadata": {},
     "output_type": "execute_result"
    }
   ],
   "source": [
    "len(X_test),len(y_test)"
   ]
  },
  {
   "cell_type": "code",
   "execution_count": 13,
   "metadata": {},
   "outputs": [],
   "source": [
    "label = []\n",
    "i = 0\n",
    "for tweet in X_test:\n",
    "    ans = reloaded_predictor_A.predict(tweet)\n",
    "    i += 1\n",
    "    #print(i,len(tweet))\n",
    "    if (ans == 0):\n",
    "        label.append('HOF')\n",
    "    else:\n",
    "        label.append('NOT')"
   ]
  },
  {
   "cell_type": "code",
   "execution_count": 14,
   "metadata": {},
   "outputs": [
    {
     "name": "stdout",
     "output_type": "stream",
     "text": [
      "HOF woman get pretti high bodi count onli take one dick time virgin indic wisdom good head one shoulder doe correl invers woman bodi count\n",
      "NOT lost one belov teacher school covid19 last week littl tribut teacher influenc life rip sir miss teacherappreciationweek covidindia indiacovidcrisi\n",
      "NOT usa first ladi wife command chief uk first ladi command chief elizabeth ii carri antoinett mere latest shag probabl queen prime minist\n",
      "HOF look bastard toad dog conchetumar son donkey jerk go sing precis concis keep fuck go make levit leg slit cut webeo\n",
      "HOF bloodi high definit multimedia interfac bloodi well fuck understand got hell bitch\n",
      "HOF govern ca manag defeat vaccin oxygen foreign aid pandem right remain power resign pm modi save loss live\n",
      "NOT want covid19 giver help us ani way thank chinesevirus ccpvirus\n",
      "HOF alright fucker pqrted\n",
      "HOF grown dont know mani time announc fuck wan na fuck love wan na love wan na shut fuck talk\n",
      "HOF hmmmm bitch\n"
     ]
    }
   ],
   "source": [
    "for i in range(10):\n",
    "    print(label[i],X_test[i])"
   ]
  },
  {
   "cell_type": "code",
   "execution_count": 15,
   "metadata": {},
   "outputs": [
    {
     "data": {
      "text/plain": [
       "[3, 1, 1, 3, 3, 0, 1, 3, 1, 3]"
      ]
     },
     "execution_count": 15,
     "metadata": {},
     "output_type": "execute_result"
    }
   ],
   "source": [
    "y_test[:10]"
   ]
  },
  {
   "cell_type": "markdown",
   "metadata": {},
   "source": [
    "## Step 2: Profanity Check"
   ]
  },
  {
   "cell_type": "code",
   "execution_count": 17,
   "metadata": {},
   "outputs": [],
   "source": [
    "from profanityfilter import ProfanityFilter\n",
    "pf = ProfanityFilter()"
   ]
  },
  {
   "cell_type": "code",
   "execution_count": 19,
   "metadata": {},
   "outputs": [],
   "source": [
    "from better_profanity import profanity"
   ]
  },
  {
   "cell_type": "code",
   "execution_count": 20,
   "metadata": {},
   "outputs": [
    {
     "data": {
      "text/plain": [
       "(1152, 1152, 1152)"
      ]
     },
     "execution_count": 20,
     "metadata": {},
     "output_type": "execute_result"
    }
   ],
   "source": [
    "len(label),len(X_test),len(y_test)"
   ]
  },
  {
   "cell_type": "code",
   "execution_count": 21,
   "metadata": {},
   "outputs": [],
   "source": [
    "op = []\n",
    "for i in range(len(X_test)):\n",
    "    # Not even HOT\n",
    "    if(label[i] == 'NOT'):\n",
    "        op.append('NONE')\n",
    "    else:\n",
    "        if(profanity.contains_profanity(X_test[i]) == True):\n",
    "            op.append('PRFN')\n",
    "        else:\n",
    "            if(pf.is_profane(X_test[i]) == True):\n",
    "                op.append('PRFN')\n",
    "            # Not PRNF but can be OFFN/HATE\n",
    "            else:\n",
    "                op.append('HOF')"
   ]
  },
  {
   "cell_type": "code",
   "execution_count": 22,
   "metadata": {},
   "outputs": [
    {
     "data": {
      "text/plain": [
       "(1152, 1152, 1152, 1152)"
      ]
     },
     "execution_count": 22,
     "metadata": {},
     "output_type": "execute_result"
    }
   ],
   "source": [
    "len(label),len(op),len(X_test),len(y_test)"
   ]
  },
  {
   "cell_type": "markdown",
   "metadata": {},
   "source": [
    "## Step 3: Predict OFFN/HATE"
   ]
  },
  {
   "cell_type": "code",
   "execution_count": 23,
   "metadata": {},
   "outputs": [],
   "source": [
    "reloaded_predictor_OH = ktrain.load_predictor('bert_OFFN_HATE')"
   ]
  },
  {
   "cell_type": "code",
   "execution_count": 24,
   "metadata": {},
   "outputs": [],
   "source": [
    "for i in range(len(op)):\n",
    "    if (op[i] == 'HOF'):\n",
    "        ans = reloaded_predictor_OH.predict(X_test[i])\n",
    "        if (ans == 0):\n",
    "            op[i] = 'HATE'\n",
    "        else:\n",
    "            op[i] = 'OFFN'\n"
   ]
  },
  {
   "cell_type": "code",
   "execution_count": 25,
   "metadata": {},
   "outputs": [
    {
     "data": {
      "text/plain": [
       "['HATE', 'NONE', 'OFFN', 'PRFN']"
      ]
     },
     "execution_count": 25,
     "metadata": {},
     "output_type": "execute_result"
    }
   ],
   "source": [
    "LE.fit(op)\n",
    "list(LE.classes_)"
   ]
  },
  {
   "cell_type": "code",
   "execution_count": 26,
   "metadata": {},
   "outputs": [
    {
     "data": {
      "text/plain": [
       "[0, 1, 2, 3]"
      ]
     },
     "execution_count": 26,
     "metadata": {},
     "output_type": "execute_result"
    }
   ],
   "source": [
    "op = LE.fit_transform(op)\n",
    "LE.fit(op)\n",
    "list(LE.classes_)"
   ]
  },
  {
   "cell_type": "markdown",
   "metadata": {},
   "source": [
    "## Check for accuracy"
   ]
  },
  {
   "cell_type": "code",
   "execution_count": 27,
   "metadata": {},
   "outputs": [
    {
     "data": {
      "text/plain": [
       "0.6579861111111112"
      ]
     },
     "execution_count": 27,
     "metadata": {},
     "output_type": "execute_result"
    }
   ],
   "source": [
    "from sklearn.metrics import accuracy_score\n",
    "accuracy_score(y_test, op)"
   ]
  },
  {
   "cell_type": "code",
   "execution_count": 28,
   "metadata": {},
   "outputs": [
    {
     "name": "stdout",
     "output_type": "stream",
     "text": [
      "              precision    recall  f1-score   support\n",
      "\n",
      "           0       0.58      0.54      0.56       209\n",
      "           1       0.73      0.69      0.71       382\n",
      "           2       0.61      0.33      0.43       197\n",
      "           3       0.64      0.87      0.74       364\n",
      "\n",
      "    accuracy                           0.66      1152\n",
      "   macro avg       0.64      0.61      0.61      1152\n",
      "weighted avg       0.66      0.66      0.64      1152\n",
      "\n"
     ]
    }
   ],
   "source": [
    "from sklearn import metrics\n",
    "print(metrics.classification_report(y_test,op))"
   ]
  },
  {
   "cell_type": "markdown",
   "metadata": {},
   "source": [
    "## Running the model on test data"
   ]
  },
  {
   "cell_type": "code",
   "execution_count": 29,
   "metadata": {},
   "outputs": [
    {
     "data": {
      "text/html": [
       "<div>\n",
       "<style scoped>\n",
       "    .dataframe tbody tr th:only-of-type {\n",
       "        vertical-align: middle;\n",
       "    }\n",
       "\n",
       "    .dataframe tbody tr th {\n",
       "        vertical-align: top;\n",
       "    }\n",
       "\n",
       "    .dataframe thead th {\n",
       "        text-align: right;\n",
       "    }\n",
       "</style>\n",
       "<table border=\"1\" class=\"dataframe\">\n",
       "  <thead>\n",
       "    <tr style=\"text-align: right;\">\n",
       "      <th></th>\n",
       "      <th>_id</th>\n",
       "      <th>text</th>\n",
       "      <th>text_clean</th>\n",
       "    </tr>\n",
       "  </thead>\n",
       "  <tbody>\n",
       "    <tr>\n",
       "      <th>0</th>\n",
       "      <td>60c5d6bf5659ea5e55deffcb</td>\n",
       "      <td>Fewer people coming in for vaccinations. So sa...</td>\n",
       "      <td>fewer peopl come vaccin sad nurs covidvaccin vumc</td>\n",
       "    </tr>\n",
       "    <tr>\n",
       "      <th>1</th>\n",
       "      <td>60c5d6bf5659ea5e55df028c</td>\n",
       "      <td>@MattHancock This may all be true. But... What...</td>\n",
       "      <td>may true piss big dom</td>\n",
       "    </tr>\n",
       "    <tr>\n",
       "      <th>2</th>\n",
       "      <td>60c5d6bf5659ea5e55def377</td>\n",
       "      <td>@Layla_EFC I’ve unfollowed him the wanker</td>\n",
       "      <td>unfollow wanker</td>\n",
       "    </tr>\n",
       "    <tr>\n",
       "      <th>3</th>\n",
       "      <td>60c5d6bf5659ea5e55def4c7</td>\n",
       "      <td>You guys are losing it all over the world. The...</td>\n",
       "      <td>guy lose world jung label islamophobia</td>\n",
       "    </tr>\n",
       "    <tr>\n",
       "      <th>4</th>\n",
       "      <td>60c5d6bf5659ea5e55df01a6</td>\n",
       "      <td>And thus death laughs... It is sad merriment, ...</td>\n",
       "      <td>thus death laugh sad merriment still covid ind...</td>\n",
       "    </tr>\n",
       "  </tbody>\n",
       "</table>\n",
       "</div>"
      ],
      "text/plain": [
       "                        _id  \\\n",
       "0  60c5d6bf5659ea5e55deffcb   \n",
       "1  60c5d6bf5659ea5e55df028c   \n",
       "2  60c5d6bf5659ea5e55def377   \n",
       "3  60c5d6bf5659ea5e55def4c7   \n",
       "4  60c5d6bf5659ea5e55df01a6   \n",
       "\n",
       "                                                text  \\\n",
       "0  Fewer people coming in for vaccinations. So sa...   \n",
       "1  @MattHancock This may all be true. But... What...   \n",
       "2          @Layla_EFC I’ve unfollowed him the wanker   \n",
       "3  You guys are losing it all over the world. The...   \n",
       "4  And thus death laughs... It is sad merriment, ...   \n",
       "\n",
       "                                          text_clean  \n",
       "0  fewer peopl come vaccin sad nurs covidvaccin vumc  \n",
       "1                              may true piss big dom  \n",
       "2                                    unfollow wanker  \n",
       "3             guy lose world jung label islamophobia  \n",
       "4  thus death laugh sad merriment still covid ind...  "
      ]
     },
     "execution_count": 29,
     "metadata": {},
     "output_type": "execute_result"
    }
   ],
   "source": [
    "df_ans = pd.read_csv(\"../../preprocess_test_data.csv\",index_col=0)\n",
    "df_ans['text_clean'] = df_ans['text_clean'].fillna('neutral')\n",
    "df_ans.head()"
   ]
  },
  {
   "cell_type": "code",
   "execution_count": 30,
   "metadata": {},
   "outputs": [],
   "source": [
    "label = []\n",
    "i = 0\n",
    "for tweet in df_ans['text_clean']:\n",
    "    ans = reloaded_predictor_A.predict(tweet)\n",
    "    i += 1\n",
    "    #print(i,len(tweet))\n",
    "    if (ans == 0):\n",
    "        label.append('HOF')\n",
    "    else:\n",
    "        label.append('NOT')"
   ]
  },
  {
   "cell_type": "code",
   "execution_count": 31,
   "metadata": {},
   "outputs": [
    {
     "data": {
      "text/plain": [
       "(1281, 1281)"
      ]
     },
     "execution_count": 31,
     "metadata": {},
     "output_type": "execute_result"
    }
   ],
   "source": [
    "len(label),len(df_ans)"
   ]
  },
  {
   "cell_type": "code",
   "execution_count": 32,
   "metadata": {},
   "outputs": [],
   "source": [
    "op = []\n",
    "for i in range(len(df_ans['text_clean'])):\n",
    "    # Not even HOT\n",
    "    if(label[i] == 'NOT'):\n",
    "        op.append('NONE')\n",
    "    else:\n",
    "        if(profanity.contains_profanity(df_ans['text_clean'][i]) == True):\n",
    "            op.append('PRFN')\n",
    "        else:\n",
    "            if(pf.is_profane(df_ans['text_clean'][i]) == True):\n",
    "                op.append('PRFN')\n",
    "            # Not PRNF but can be OFFN/HATE\n",
    "            else:\n",
    "                op.append('HOF')"
   ]
  },
  {
   "cell_type": "code",
   "execution_count": 33,
   "metadata": {},
   "outputs": [
    {
     "data": {
      "text/plain": [
       "(1281, 1281, 1281)"
      ]
     },
     "execution_count": 33,
     "metadata": {},
     "output_type": "execute_result"
    }
   ],
   "source": [
    "len(label),len(df_ans),len(op)"
   ]
  },
  {
   "cell_type": "code",
   "execution_count": 34,
   "metadata": {},
   "outputs": [],
   "source": [
    "for i in range(len(op)):\n",
    "    if (op[i] == 'HOF'):\n",
    "        ans = reloaded_predictor_OH.predict(df_ans['text_clean'][i])\n",
    "        if (ans == 0):\n",
    "            op[i] = 'HATE'\n",
    "        else:\n",
    "            op[i] = 'OFFN'"
   ]
  },
  {
   "cell_type": "code",
   "execution_count": 35,
   "metadata": {},
   "outputs": [
    {
     "data": {
      "text/plain": [
       "['HATE', 'NONE', 'OFFN', 'PRFN']"
      ]
     },
     "execution_count": 35,
     "metadata": {},
     "output_type": "execute_result"
    }
   ],
   "source": [
    "LE = LabelEncoder()\n",
    "LE.fit(op)\n",
    "list(LE.classes_)"
   ]
  },
  {
   "cell_type": "code",
   "execution_count": 36,
   "metadata": {},
   "outputs": [],
   "source": [
    "df_ans = df_ans.drop(['text','text_clean'],axis=1)\n",
    "df_ans = df_ans.reset_index()\n",
    "df_ans = df_ans.drop(['index'],axis=1)\n",
    "df_ans['label'] = pd.Series(op)"
   ]
  },
  {
   "cell_type": "code",
   "execution_count": 37,
   "metadata": {},
   "outputs": [
    {
     "data": {
      "text/html": [
       "<div>\n",
       "<style scoped>\n",
       "    .dataframe tbody tr th:only-of-type {\n",
       "        vertical-align: middle;\n",
       "    }\n",
       "\n",
       "    .dataframe tbody tr th {\n",
       "        vertical-align: top;\n",
       "    }\n",
       "\n",
       "    .dataframe thead th {\n",
       "        text-align: right;\n",
       "    }\n",
       "</style>\n",
       "<table border=\"1\" class=\"dataframe\">\n",
       "  <thead>\n",
       "    <tr style=\"text-align: right;\">\n",
       "      <th></th>\n",
       "      <th>_id</th>\n",
       "      <th>label</th>\n",
       "    </tr>\n",
       "  </thead>\n",
       "  <tbody>\n",
       "    <tr>\n",
       "      <th>0</th>\n",
       "      <td>60c5d6bf5659ea5e55deffcb</td>\n",
       "      <td>NONE</td>\n",
       "    </tr>\n",
       "    <tr>\n",
       "      <th>1</th>\n",
       "      <td>60c5d6bf5659ea5e55df028c</td>\n",
       "      <td>PRFN</td>\n",
       "    </tr>\n",
       "    <tr>\n",
       "      <th>2</th>\n",
       "      <td>60c5d6bf5659ea5e55def377</td>\n",
       "      <td>PRFN</td>\n",
       "    </tr>\n",
       "    <tr>\n",
       "      <th>3</th>\n",
       "      <td>60c5d6bf5659ea5e55def4c7</td>\n",
       "      <td>NONE</td>\n",
       "    </tr>\n",
       "    <tr>\n",
       "      <th>4</th>\n",
       "      <td>60c5d6bf5659ea5e55df01a6</td>\n",
       "      <td>NONE</td>\n",
       "    </tr>\n",
       "  </tbody>\n",
       "</table>\n",
       "</div>"
      ],
      "text/plain": [
       "                        _id label\n",
       "0  60c5d6bf5659ea5e55deffcb  NONE\n",
       "1  60c5d6bf5659ea5e55df028c  PRFN\n",
       "2  60c5d6bf5659ea5e55def377  PRFN\n",
       "3  60c5d6bf5659ea5e55def4c7  NONE\n",
       "4  60c5d6bf5659ea5e55df01a6  NONE"
      ]
     },
     "execution_count": 37,
     "metadata": {},
     "output_type": "execute_result"
    }
   ],
   "source": [
    "df_ans.head()"
   ]
  },
  {
   "cell_type": "code",
   "execution_count": 38,
   "metadata": {},
   "outputs": [],
   "source": [
    "df_ans.to_csv('Proposed_BERT_Model.csv',index=False)"
   ]
  },
  {
   "cell_type": "code",
   "execution_count": null,
   "metadata": {},
   "outputs": [],
   "source": []
  }
 ],
 "metadata": {
  "interpreter": {
   "hash": "aee8b7b246df8f9039afb4144a1f6fd8d2ca17a180786b69acc140d282b71a49"
  },
  "kernelspec": {
   "display_name": "Python 3 (ipykernel)",
   "language": "python",
   "name": "python3"
  },
  "language_info": {
   "codemirror_mode": {
    "name": "ipython",
    "version": 3
   },
   "file_extension": ".py",
   "mimetype": "text/x-python",
   "name": "python",
   "nbconvert_exporter": "python",
   "pygments_lexer": "ipython3",
   "version": "3.8.18"
  }
 },
 "nbformat": 4,
 "nbformat_minor": 4
}
