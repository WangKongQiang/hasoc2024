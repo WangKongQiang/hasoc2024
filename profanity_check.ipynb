{
 "cells": [
  {
   "cell_type": "code",
   "execution_count": null,
   "metadata": {
    "id": "mbfZBrow3yhV"
   },
   "outputs": [],
   "source": [
    "pip install profanity-check"
   ]
  },
  {
   "cell_type": "code",
   "execution_count": null,
   "metadata": {
    "id": "AV3MhR_68YQN"
   },
   "outputs": [],
   "source": [
    "pip install profanityfilter"
   ]
  },
  {
   "cell_type": "code",
   "execution_count": null,
   "metadata": {
    "id": "613utSE-F1ty"
   },
   "outputs": [],
   "source": [
    "pip install cuss_inspect"
   ]
  },
  {
   "cell_type": "code",
   "execution_count": null,
   "metadata": {
    "id": "yroPbac2I6qI"
   },
   "outputs": [],
   "source": [
    "pip install better-profanity"
   ]
  },
  {
   "cell_type": "code",
   "execution_count": null,
   "metadata": {
    "id": "bwcstWWJKhHQ"
   },
   "outputs": [],
   "source": []
  },
  {
   "cell_type": "code",
   "execution_count": null,
   "metadata": {
    "id": "PV20Z8Z5Kg_D"
   },
   "outputs": [],
   "source": []
  },
  {
   "cell_type": "code",
   "execution_count": null,
   "metadata": {
    "id": "PpOvFk9N318k"
   },
   "outputs": [],
   "source": [
    "from profanity_check import predict,predict_prob"
   ]
  },
  {
   "cell_type": "code",
   "execution_count": 2,
   "metadata": {
    "id": "2Xto0-HK8cgP"
   },
   "outputs": [],
   "source": [
    "from profanityfilter import ProfanityFilter\n",
    "pf = ProfanityFilter()"
   ]
  },
  {
   "cell_type": "code",
   "execution_count": null,
   "metadata": {
    "id": "C7jEnJfYGRbf"
   },
   "outputs": [],
   "source": [
    "from cuss_inspect import predict, predict_prob"
   ]
  },
  {
   "cell_type": "code",
   "execution_count": 3,
   "metadata": {
    "id": "aB6YpkVBJACm"
   },
   "outputs": [],
   "source": [
    "from better_profanity import profanity"
   ]
  },
  {
   "cell_type": "code",
   "execution_count": 6,
   "metadata": {
    "id": "zUqHMoNU5diH"
   },
   "outputs": [],
   "source": [
    "import pandas as pd"
   ]
  },
  {
   "cell_type": "code",
   "execution_count": 7,
   "metadata": {
    "id": "b3p0E8Dx5XyK"
   },
   "outputs": [],
   "source": [
    "dataframe = pd.read_csv('../preprocess_data.csv')"
   ]
  },
  {
   "cell_type": "code",
   "execution_count": 8,
   "metadata": {
    "id": "JDogRYd45U5P"
   },
   "outputs": [],
   "source": [
    "rslt_df = dataframe[dataframe['task_2'] == 'PRFN']"
   ]
  },
  {
   "cell_type": "code",
   "execution_count": 9,
   "metadata": {
    "colab": {
     "base_uri": "https://localhost:8080/"
    },
    "id": "NWg0xbCJ5UYE",
    "outputId": "6907b035-b0fe-4054-c402-83630d2f0c75"
   },
   "outputs": [
    {
     "data": {
      "text/plain": [
       "1196"
      ]
     },
     "execution_count": 9,
     "metadata": {},
     "output_type": "execute_result"
    }
   ],
   "source": [
    "len(rslt_df)"
   ]
  },
  {
   "cell_type": "code",
   "execution_count": null,
   "metadata": {
    "id": "mQAe_2xE5qSL"
   },
   "outputs": [],
   "source": [
    "op = []\n",
    "for txt in rslt_df['text_clean'].tolist():\n",
    "  if(predict([txt])[0] == 1):\n",
    "    op.append('PRFN')\n",
    "  else:\n",
    "    op.append('NOT')"
   ]
  },
  {
   "cell_type": "code",
   "execution_count": 12,
   "metadata": {
    "id": "rW7uRUh38vjm"
   },
   "outputs": [],
   "source": [
    "# Good\n",
    "op = []\n",
    "for txt in rslt_df['text_clean'].tolist():\n",
    "  if(pf.is_profane(txt) == True):\n",
    "    op.append('PRFN')\n",
    "  else:\n",
    "    op.append('NOT')"
   ]
  },
  {
   "cell_type": "code",
   "execution_count": 12,
   "metadata": {
    "id": "i66ZzqwOJGri"
   },
   "outputs": [],
   "source": [
    "# Best\n",
    "op = []\n",
    "for txt in rslt_df['text_clean'].tolist():\n",
    "  if(profanity.contains_profanity(txt) == True):\n",
    "    op.append('PRFN')\n",
    "  else:\n",
    "    if(pf.is_profane(txt) == True):\n",
    "      op.append('PRFN')\n",
    "    else:\n",
    "      op.append('NOT')"
   ]
  },
  {
   "cell_type": "code",
   "execution_count": 13,
   "metadata": {
    "id": "13nVAF1I6Ily"
   },
   "outputs": [],
   "source": [
    "y_true = rslt_df['task_2'].tolist()"
   ]
  },
  {
   "cell_type": "code",
   "execution_count": 14,
   "metadata": {
    "colab": {
     "base_uri": "https://localhost:8080/"
    },
    "id": "r4iJUNcJ6Wya",
    "outputId": "112ce37c-e110-40b2-9c0c-d84c51fa0714"
   },
   "outputs": [
    {
     "data": {
      "text/plain": [
       "array([[   0,    0],\n",
       "       [  93, 1103]])"
      ]
     },
     "execution_count": 14,
     "metadata": {},
     "output_type": "execute_result"
    }
   ],
   "source": [
    "from sklearn.metrics import confusion_matrix\n",
    "confusion_matrix(y_true, op)"
   ]
  },
  {
   "cell_type": "code",
   "execution_count": 15,
   "metadata": {
    "colab": {
     "base_uri": "https://localhost:8080/"
    },
    "id": "osb6pV9s6jOj",
    "outputId": "75d39ead-868c-4ed7-fc4a-457636654021"
   },
   "outputs": [
    {
     "data": {
      "text/plain": [
       "0.9222408026755853"
      ]
     },
     "execution_count": 15,
     "metadata": {},
     "output_type": "execute_result"
    }
   ],
   "source": [
    "from sklearn.metrics import accuracy_score\n",
    "accuracy_score(y_true, op)"
   ]
  },
  {
   "cell_type": "code",
   "execution_count": 16,
   "metadata": {},
   "outputs": [
    {
     "name": "stdout",
     "output_type": "stream",
     "text": [
      "              precision    recall  f1-score   support\n",
      "\n",
      "         NOT       0.00      0.00      0.00         0\n",
      "        PRFN       1.00      0.92      0.96      1196\n",
      "\n",
      "    accuracy                           0.92      1196\n",
      "   macro avg       0.50      0.46      0.48      1196\n",
      "weighted avg       1.00      0.92      0.96      1196\n",
      "\n"
     ]
    },
    {
     "name": "stderr",
     "output_type": "stream",
     "text": [
      "/usr/local/lib/python3.9/site-packages/sklearn/metrics/_classification.py:1248: UndefinedMetricWarning: Recall and F-score are ill-defined and being set to 0.0 in labels with no true samples. Use `zero_division` parameter to control this behavior.\n",
      "  _warn_prf(average, modifier, msg_start, len(result))\n",
      "/usr/local/lib/python3.9/site-packages/sklearn/metrics/_classification.py:1248: UndefinedMetricWarning: Recall and F-score are ill-defined and being set to 0.0 in labels with no true samples. Use `zero_division` parameter to control this behavior.\n",
      "  _warn_prf(average, modifier, msg_start, len(result))\n",
      "/usr/local/lib/python3.9/site-packages/sklearn/metrics/_classification.py:1248: UndefinedMetricWarning: Recall and F-score are ill-defined and being set to 0.0 in labels with no true samples. Use `zero_division` parameter to control this behavior.\n",
      "  _warn_prf(average, modifier, msg_start, len(result))\n"
     ]
    }
   ],
   "source": [
    "from sklearn import metrics\n",
    "print(metrics.classification_report(y_true,op))"
   ]
  },
  {
   "cell_type": "code",
   "execution_count": null,
   "metadata": {
    "id": "Cg3jyGiK6tD7"
   },
   "outputs": [],
   "source": [
    "i = 0\n",
    "x_task = rslt_df['task_2'].tolist()\n",
    "x_text = rslt_df['text_clean'].tolist()\n",
    "for i in range (len(rslt_df)):\n",
    "  if(x_task[i] != op[i]):\n",
    "    print(x_text[i],x_task[i],op[i])\n",
    "  i += 1"
   ]
  }
 ],
 "metadata": {
  "colab": {
   "name": "Profanity_Check",
   "provenance": []
  },
  "interpreter": {
   "hash": "aee8b7b246df8f9039afb4144a1f6fd8d2ca17a180786b69acc140d282b71a49"
  },
  "kernelspec": {
   "display_name": "Python 3 (ipykernel)",
   "language": "python",
   "name": "python3"
  },
  "language_info": {
   "codemirror_mode": {
    "name": "ipython",
    "version": 3
   },
   "file_extension": ".py",
   "mimetype": "text/x-python",
   "name": "python",
   "nbconvert_exporter": "python",
   "pygments_lexer": "ipython3",
   "version": "3.8.18"
  }
 },
 "nbformat": 4,
 "nbformat_minor": 4
}
